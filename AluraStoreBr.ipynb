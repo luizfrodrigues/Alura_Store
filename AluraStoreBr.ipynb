{
  "nbformat": 4,
  "nbformat_minor": 0,
  "metadata": {
    "colab": {
      "provenance": []
    },
    "kernelspec": {
      "name": "python3",
      "display_name": "Python 3"
    },
    "language_info": {
      "name": "python"
    }
  },
  "cells": [
    {
      "cell_type": "markdown",
      "source": [
        "### Importação dos dados\n",
        "\n"
      ],
      "metadata": {
        "id": "RhEdWd9YUR6H"
      }
    },
    {
      "cell_type": "code",
      "execution_count": 23,
      "metadata": {
        "id": "T3EvaeQ_INIL"
      },
      "outputs": [],
      "source": [
        "import pandas as pd\n",
        "\n",
        "url1 = \"https://raw.githubusercontent.com/alura-es-cursos/challenge1-data-science/refs/heads/main/base-de-dados-challenge-1/loja_1.csv\"\n",
        "url2 = \"https://raw.githubusercontent.com/alura-es-cursos/challenge1-data-science/refs/heads/main/base-de-dados-challenge-1/loja_2.csv\"\n",
        "url3 = \"https://raw.githubusercontent.com/alura-es-cursos/challenge1-data-science/refs/heads/main/base-de-dados-challenge-1/loja_3.csv\"\n",
        "url4 = \"https://raw.githubusercontent.com/alura-es-cursos/challenge1-data-science/refs/heads/main/base-de-dados-challenge-1/loja_4.csv\"\n"
      ]
    },
    {
      "cell_type": "markdown",
      "source": [
        "##Funções e variávies globais"
      ],
      "metadata": {
        "id": "jhllYcvmoFvZ"
      }
    },
    {
      "cell_type": "code",
      "source": [
        "loja1 = pd.read_csv(url1)\n",
        "loja2 = pd.read_csv(url2)\n",
        "loja3 = pd.read_csv(url3)\n",
        "loja4 = pd.read_csv(url4)\n",
        "\n",
        "lojas = {\n",
        "    'Loja 1': loja1,\n",
        "    'Loja 2': loja2,\n",
        "    'Loja 3': loja3,\n",
        "    'Loja 4': loja4\n",
        "}\n",
        "\n",
        "def ordenar(dict_ordenar):\n",
        "    return dict(sorted(dict_ordenar.items(), key=lambda item: item[1], reverse=True)) # Ordena do maior para o menor\n",
        "\n"
      ],
      "metadata": {
        "id": "Tvwhot9voFW1"
      },
      "execution_count": 25,
      "outputs": []
    },
    {
      "cell_type": "markdown",
      "source": [
        "#1. Análise do faturamento\n"
      ],
      "metadata": {
        "id": "X62IW3KFUIYm"
      }
    },
    {
      "cell_type": "code",
      "source": [
        "def calcular_faturamento(df):\n",
        "  df['Faturamento'] = df['Preço'] + df['Frete']\n",
        "  return df['Faturamento'].sum()\n",
        "\n",
        "def impressao_faturamento_loja(nome_loja, faturamento):\n",
        "  print(f'O faturamento da {nome_loja} foi de R${faturamento:.2f}')\n",
        "\n",
        "faturamentos = {nome_loja: calcular_faturamento(df) for nome_loja, df in lojas.items()}\n",
        "\n",
        "faturamentos_ordenados = ordenar(faturamentos)\n",
        "\n",
        "print(\"1. Análise do faturamento\", end='\\n'*2)\n",
        "for nome_loja, faturamento in faturamentos_ordenados.items():\n",
        "  impressao_faturamento_loja(nome_loja, faturamento)"
      ],
      "metadata": {
        "id": "xykobSftV64I",
        "colab": {
          "base_uri": "https://localhost:8080/"
        },
        "outputId": "1561d44e-24c0-41ba-a602-4f090d5b1fe4"
      },
      "execution_count": 47,
      "outputs": [
        {
          "output_type": "stream",
          "name": "stdout",
          "text": [
            "1. Análise do faturamento\n",
            "\n",
            "O faturamento da Loja 1 foi de R$1616347.09\n",
            "O faturamento da Loja 2 foi de R$1567773.22\n",
            "O faturamento da Loja 3 foi de R$1542047.69\n",
            "O faturamento da Loja 4 foi de R$1458253.46\n"
          ]
        }
      ]
    },
    {
      "cell_type": "markdown",
      "source": [
        "De acordo com as análises verifica-se que a 'Loja 1' apresenta o maior faturamento, enquanto a 'Loja 4' o menor faturamento."
      ],
      "metadata": {
        "id": "kVUMSGxjs18I"
      }
    },
    {
      "cell_type": "markdown",
      "source": [
        "# 2. Vendas por Categoria\n"
      ],
      "metadata": {
        "id": "2V_vcAPzWZmR"
      }
    },
    {
      "cell_type": "code",
      "source": [
        "def calcular_vendas_por_categoria(df):\n",
        "  return df.groupby('Categoria do Produto').size().sort_values(ascending=False)\n",
        "\n",
        "def impressao_categoria(nome_loja, vendas):\n",
        "  print(f\"{nome_loja}: {vendas}\")\n",
        "\n",
        "vendas_por_categoria = {nome_loja: calcular_vendas_por_categoria(df) for nome_loja, df in lojas.items()}\n",
        "\n",
        "print(\"2. Análise de Vendas por Categoria por Loja:\", end='\\n'*2)\n",
        "for nome_loja, vendas in vendas_por_categoria.items():\n",
        "  impressao_categoria(nome_loja, vendas)\n",
        "  print(\"\\n\")"
      ],
      "metadata": {
        "id": "A34YupIuYhfF",
        "colab": {
          "base_uri": "https://localhost:8080/"
        },
        "outputId": "17123fd5-6b9b-485f-928b-470e07461a4d"
      },
      "execution_count": 45,
      "outputs": [
        {
          "output_type": "stream",
          "name": "stdout",
          "text": [
            "2. Análise de Vendas por Categoria por Loja:\n",
            "\n",
            "Loja 1: Categoria do Produto\n",
            "moveis                   465\n",
            "eletronicos              448\n",
            "brinquedos               324\n",
            "eletrodomesticos         312\n",
            "esporte e lazer          284\n",
            "instrumentos musicais    182\n",
            "livros                   173\n",
            "utilidades domesticas    171\n",
            "dtype: int64\n",
            "\n",
            "\n",
            "Loja 2: Categoria do Produto\n",
            "moveis                   442\n",
            "eletronicos              422\n",
            "brinquedos               313\n",
            "eletrodomesticos         305\n",
            "esporte e lazer          275\n",
            "instrumentos musicais    224\n",
            "livros                   197\n",
            "utilidades domesticas    181\n",
            "dtype: int64\n",
            "\n",
            "\n",
            "Loja 3: Categoria do Produto\n",
            "moveis                   499\n",
            "eletronicos              451\n",
            "brinquedos               315\n",
            "eletrodomesticos         278\n",
            "esporte e lazer          277\n",
            "livros                   185\n",
            "instrumentos musicais    177\n",
            "utilidades domesticas    177\n",
            "dtype: int64\n",
            "\n",
            "\n",
            "Loja 4: Categoria do Produto\n",
            "moveis                   480\n",
            "eletronicos              451\n",
            "brinquedos               338\n",
            "esporte e lazer          277\n",
            "eletrodomesticos         254\n",
            "utilidades domesticas    201\n",
            "livros                   187\n",
            "instrumentos musicais    170\n",
            "dtype: int64\n",
            "\n",
            "\n"
          ]
        }
      ]
    },
    {
      "cell_type": "markdown",
      "source": [
        "De acordo"
      ],
      "metadata": {
        "id": "_J1XyCgj1UWi"
      }
    },
    {
      "cell_type": "markdown",
      "source": [
        "# 3. Média de Avaliação das Lojas"
      ],
      "metadata": {
        "id": "Rq6tU_xSY3jk"
      }
    },
    {
      "cell_type": "code",
      "source": [
        "def calcular_media_avaliacao(df):\n",
        "    return df['Avaliação da compra'].mean()\n",
        "\n",
        "def impressao_media_avaliacao_loja(nome_loja, media_avaliacao):\n",
        "    print(f\"{nome_loja}: {media_avaliacao:.2f}\")\n",
        "\n",
        "avaliacoes_medias = {nome_loja: calcular_media_avaliacao(df) for nome_loja, df in lojas.items()}\n",
        "avaliacoes_medias_ordenadas = ordenar(avaliacoes_medias)\n",
        "\n",
        "print(\"3. Análise da Média de Avaliação por Loja:\", end='\\n'*2)\n",
        "for nome_loja, avaliacao_media in avaliacoes_medias_ordenadas.items():\n",
        "    impressao_media_avaliacao_loja(nome_loja, avaliacao_media)\n",
        "print(\"\\n\")"
      ],
      "metadata": {
        "id": "bh3jjjJwY5MU",
        "colab": {
          "base_uri": "https://localhost:8080/"
        },
        "outputId": "e6aa82b7-1f30-4590-a7b3-f4928fcf5ece"
      },
      "execution_count": 49,
      "outputs": [
        {
          "output_type": "stream",
          "name": "stdout",
          "text": [
            "3. Análise da Média de Avaliação por Loja:\n",
            "\n",
            "Loja 3: 4.05\n",
            "Loja 2: 4.04\n",
            "Loja 4: 4.00\n",
            "Loja 1: 3.98\n",
            "\n",
            "\n"
          ]
        }
      ]
    },
    {
      "cell_type": "markdown",
      "source": [
        "De acordo com as análises verifica-se que a 'Loja 3' apresenta a maior média de Avaliação, enquanto a 'Loja 1' a menor menor média de Avaliação."
      ],
      "metadata": {
        "id": "Rdz_mIER1lws"
      }
    },
    {
      "cell_type": "markdown",
      "source": [
        "# 4. Produtos Mais e Menos Vendidos"
      ],
      "metadata": {
        "id": "DmNp1KPBZCm-"
      }
    },
    {
      "cell_type": "code",
      "source": [],
      "metadata": {
        "id": "qoyjqijQZHfF"
      },
      "execution_count": null,
      "outputs": []
    },
    {
      "cell_type": "code",
      "source": [],
      "metadata": {
        "id": "0Sw3sd4IZIGW"
      },
      "execution_count": null,
      "outputs": []
    },
    {
      "cell_type": "markdown",
      "source": [
        "# 5. Frete Médio por Loja\n"
      ],
      "metadata": {
        "id": "Fl0cGi3bZKqU"
      }
    },
    {
      "cell_type": "code",
      "source": [],
      "metadata": {
        "id": "S2JeaCykZNy9"
      },
      "execution_count": null,
      "outputs": []
    },
    {
      "cell_type": "code",
      "source": [],
      "metadata": {
        "id": "0tSdCie9ZQlt"
      },
      "execution_count": null,
      "outputs": []
    }
  ]
}