{
  "nbformat": 4,
  "nbformat_minor": 0,
  "metadata": {
    "colab": {
      "provenance": []
    },
    "kernelspec": {
      "name": "python3",
      "display_name": "Python 3"
    },
    "language_info": {
      "name": "python"
    }
  },
  "cells": [
    {
      "cell_type": "markdown",
      "source": [
        "### Importação dos dados\n",
        "\n"
      ],
      "metadata": {
        "id": "RhEdWd9YUR6H"
      }
    },
    {
      "cell_type": "code",
      "execution_count": 23,
      "metadata": {
        "id": "T3EvaeQ_INIL"
      },
      "outputs": [],
      "source": [
        "import pandas as pd\n",
        "\n",
        "url1 = \"https://raw.githubusercontent.com/alura-es-cursos/challenge1-data-science/refs/heads/main/base-de-dados-challenge-1/loja_1.csv\"\n",
        "url2 = \"https://raw.githubusercontent.com/alura-es-cursos/challenge1-data-science/refs/heads/main/base-de-dados-challenge-1/loja_2.csv\"\n",
        "url3 = \"https://raw.githubusercontent.com/alura-es-cursos/challenge1-data-science/refs/heads/main/base-de-dados-challenge-1/loja_3.csv\"\n",
        "url4 = \"https://raw.githubusercontent.com/alura-es-cursos/challenge1-data-science/refs/heads/main/base-de-dados-challenge-1/loja_4.csv\"\n"
      ]
    },
    {
      "cell_type": "markdown",
      "source": [
        "##Funções e variávies globais"
      ],
      "metadata": {
        "id": "jhllYcvmoFvZ"
      }
    },
    {
      "cell_type": "code",
      "source": [
        "loja1 = pd.read_csv(url1)\n",
        "loja2 = pd.read_csv(url2)\n",
        "loja3 = pd.read_csv(url3)\n",
        "loja4 = pd.read_csv(url4)\n",
        "\n",
        "lojas = {\n",
        "    'Loja 1': loja1,\n",
        "    'Loja 2': loja2,\n",
        "    'Loja 3': loja3,\n",
        "    'Loja 4': loja4\n",
        "}\n",
        "\n",
        "def ordenar(dict_ordenar):\n",
        "    return dict(sorted(dict_ordenar.items(), key=lambda item: item[1], reverse=True)) # Ordena do maior para o menor\n",
        "\n"
      ],
      "metadata": {
        "id": "Tvwhot9voFW1"
      },
      "execution_count": 25,
      "outputs": []
    },
    {
      "cell_type": "markdown",
      "source": [
        "#1. Análise do faturamento\n"
      ],
      "metadata": {
        "id": "X62IW3KFUIYm"
      }
    },
    {
      "cell_type": "code",
      "source": [
        "def calcular_faturamento(df):\n",
        "  df['Faturamento'] = df['Preço'] + df['Frete']\n",
        "  return df['Faturamento'].sum()\n",
        "\n",
        "def impressao_faturamento_loja(nome_loja, faturamento):\n",
        "  print(f'O faturamento da {nome_loja} foi de R${faturamento:.2f}')\n",
        "\n",
        "faturamentos = {nome_loja: calcular_faturamento(df) for nome_loja, df in lojas.items()}\n",
        "\n",
        "faturamentos_ordenados = ordenar(faturamentos)\n",
        "\n",
        "print(\"1. Análise do faturamento\", end='\\n'*2)\n",
        "for nome_loja, faturamento in faturamentos_ordenados.items():\n",
        "  impressao_faturamento_loja(nome_loja, faturamento)"
      ],
      "metadata": {
        "id": "xykobSftV64I",
        "outputId": "99847674-903b-4b99-89b8-e3837c42874f",
        "colab": {
          "base_uri": "https://localhost:8080/"
        }
      },
      "execution_count": 32,
      "outputs": [
        {
          "output_type": "stream",
          "name": "stdout",
          "text": [
            "1. Análise do faturamento\n",
            "\n",
            "O faturamento da Loja 1 foi de R$1616347.09\n",
            "O faturamento da Loja 2 foi de R$1567773.22\n",
            "O faturamento da Loja 3 foi de R$1542047.69\n",
            "O faturamento da Loja 4 foi de R$1458253.46\n"
          ]
        }
      ]
    },
    {
      "cell_type": "code",
      "source": [],
      "metadata": {
        "id": "KDyr8E71V3m-"
      },
      "execution_count": 28,
      "outputs": []
    },
    {
      "cell_type": "markdown",
      "source": [
        "# 2. Vendas por Categoria\n"
      ],
      "metadata": {
        "id": "2V_vcAPzWZmR"
      }
    },
    {
      "cell_type": "code",
      "source": [],
      "metadata": {
        "id": "A34YupIuYhfF"
      },
      "execution_count": null,
      "outputs": []
    },
    {
      "cell_type": "code",
      "source": [],
      "metadata": {
        "id": "yZR6cOjXYSk1"
      },
      "execution_count": null,
      "outputs": []
    },
    {
      "cell_type": "markdown",
      "source": [
        "# 3. Média de Avaliação das Lojas"
      ],
      "metadata": {
        "id": "Rq6tU_xSY3jk"
      }
    },
    {
      "cell_type": "code",
      "source": [],
      "metadata": {
        "id": "bh3jjjJwY5MU"
      },
      "execution_count": null,
      "outputs": []
    },
    {
      "cell_type": "code",
      "source": [],
      "metadata": {
        "id": "I0KkjPoTY88F"
      },
      "execution_count": null,
      "outputs": []
    },
    {
      "cell_type": "markdown",
      "source": [
        "# 4. Produtos Mais e Menos Vendidos"
      ],
      "metadata": {
        "id": "DmNp1KPBZCm-"
      }
    },
    {
      "cell_type": "code",
      "source": [],
      "metadata": {
        "id": "qoyjqijQZHfF"
      },
      "execution_count": null,
      "outputs": []
    },
    {
      "cell_type": "code",
      "source": [],
      "metadata": {
        "id": "0Sw3sd4IZIGW"
      },
      "execution_count": null,
      "outputs": []
    },
    {
      "cell_type": "markdown",
      "source": [
        "# 5. Frete Médio por Loja\n"
      ],
      "metadata": {
        "id": "Fl0cGi3bZKqU"
      }
    },
    {
      "cell_type": "code",
      "source": [],
      "metadata": {
        "id": "S2JeaCykZNy9"
      },
      "execution_count": null,
      "outputs": []
    },
    {
      "cell_type": "code",
      "source": [],
      "metadata": {
        "id": "0tSdCie9ZQlt"
      },
      "execution_count": null,
      "outputs": []
    }
  ]
}